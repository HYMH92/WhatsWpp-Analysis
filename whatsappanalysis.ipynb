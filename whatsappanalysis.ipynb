{
 "cells": [
  {
   "cell_type": "markdown",
   "metadata": {},
   "source": [
    "### Relevant libraries"
   ]
  },
  {
   "cell_type": "code",
   "execution_count": 1,
   "metadata": {},
   "outputs": [],
   "source": [
    "import re\n",
    "from collections import defaultdict\n",
    "import emoji\n",
    "from statistics import mode\n",
    "import matplotlib.pyplot as plt"
   ]
  },
  {
   "cell_type": "markdown",
   "metadata": {},
   "source": [
    "### Data Loading and Preprocessing"
   ]
  },
  {
   "cell_type": "code",
   "execution_count": 108,
   "metadata": {},
   "outputs": [],
   "source": [
    "def extract_date_and_time(line):\n",
    "    # Define a regex pattern to match date and time at the beginning of the line\n",
    "    pattern = r'^(\\d{1,2}\\.\\d{1,2}\\.\\d{4}), (\\d{1,2}:\\d{2}) -'\n",
    "    \n",
    "    match = re.match(pattern, line)\n",
    "    if match:\n",
    "        date_str, time_str = match.groups()\n",
    "        year = int(date_str.split('.')[2])\n",
    "        hour = int(time_str.split(':')[0])\n",
    "        return year, hour\n",
    "    else:\n",
    "        return None, None\n",
    "\n",
    "\n",
    "def process_lines(file_path):\n",
    "    user_lines = defaultdict(list)  # Dictionary to store user lines\n",
    "    year_count = defaultdict(int)   # Dictionary to count occurrences by year\n",
    "    hour_count = defaultdict(int)   # Dictionary to count occurrences by hour\n",
    "    user_message_count = defaultdict(int)  # Dictionary to count messages per user\n",
    "    user_media_count = defaultdict(int)  # Dictionary to count media per user\n",
    "    user_emoji_count = defaultdict(int)  # Dictionary to count emojis per user\n",
    "    user_emoji_use = defaultdict(list)  # Dictionary to count emojis per user\n",
    "    general_emoji_count = defaultdict(int)  # Dictionary to count emojis in general\n",
    "    \n",
    "    with open(file_path, encoding=\"utf8\") as file:\n",
    "        last_user = None  # Initialize variable to track the last detected user\n",
    "        for line in file:\n",
    "            year, hour = extract_date_and_time(line)\n",
    "            if year is not None and hour is not None:\n",
    "                # Extract user name (between \"-\" and \":\")\n",
    "                user_match = re.search(r'-(.*?):', line)\n",
    "                if user_match:\n",
    "                    user = user_match.group(1).strip()\n",
    "                    user_message_count[user] += 1   # Update message count\n",
    "                    year_count[year] += 1           # Update year count\n",
    "                    hour_count[hour] += 1           # Update hour count\n",
    "                    rest_of_line = line[user_match.end():].split()\n",
    "                    if \"<המדיה לא נכללה>\" not in line:\n",
    "                        for token in rest_of_line:\n",
    "                        # Count words and emojis\n",
    "                            if token in emoji.EMOJI_DATA:   # problem: ignore emoji the attached to a word (not recogized as a emoji) \n",
    "                                user_emoji_count[user] += 1\n",
    "                                user_emoji_use[user].append(token)\n",
    "                                general_emoji_count[token] += 1\n",
    "                            else:\n",
    "                                user_lines[user].append(token)  # Its not emoji but a regular word\n",
    "                    elif \"<המדיה לא נכללה>\" in line:\n",
    "                        user_media_count[user] += 1\n",
    "                    last_user = user  # Update the last detected user\n",
    "                    \n",
    "            elif last_user:\n",
    "                # Line doesn't start with date and time; add it to the last user's lines\n",
    "                if \"<המדיה לא נכללה>\" not in line:\n",
    "                    for word in line.split():\n",
    "                        user_lines[last_user].append(word)\n",
    "                    \n",
    "\n",
    "    return dict(user_lines), dict(year_count), dict(hour_count),dict(user_message_count), dict(user_media_count), dict(user_emoji_count), dict(user_emoji_use), dict(general_emoji_count)\n"
   ]
  },
  {
   "cell_type": "markdown",
   "metadata": {},
   "source": [
    "## Run and print results"
   ]
  },
  {
   "cell_type": "code",
   "execution_count": null,
   "metadata": {},
   "outputs": [],
   "source": [
    "YOUR_FILE = 'file.txt' # put the file path\n",
    "\n",
    "\n",
    "user_lines_dict, year_count_dict, hour_count_dict, message_count_dict, media_count_dict, emoji_count_dict, emoji_use_dict, general_emoji_count = process_lines(YOUR_FILE)\n",
    "\n",
    "\"\"\"\n",
    "# Print the user lines dictionary (print the text per user)\n",
    "print(\"User lines:\")\n",
    "for user, lines in user_lines_dict.items():\n",
    "    print(f\"{user}: {lines}\")\n",
    "    most_used_word = mode(lines)\n",
    "    print(f\"Most used word: {most_used_word}\")\n",
    "\"\"\"\n",
    "\n",
    "# Print the year count dictionary\n",
    "print(\"\\nYear count:\")\n",
    "for year, count in sorted(year_count_dict.items()):\n",
    "    print(f\"Year {year}: {count} occurrences\")\n",
    "\n",
    "# Print the hour count dictionary\n",
    "print(\"\\nHour count:\")\n",
    "for hour, count in sorted(hour_count_dict.items()):\n",
    "    print(f\"Hour {hour}: {count} occurrences\")\n",
    "\n",
    "# Print the massage count dictionary\n",
    "print(\"\\nMassage count:\")\n",
    "for user, message_count in sorted(message_count_dict.items()):\n",
    "    print(f\"{user}: {message_count} messages\")\n",
    "\n",
    "# Print word count and most used word for each user\n",
    "print(\"\\nWord count and most used word:\")\n",
    "for user, lines in user_lines_dict.items():\n",
    "    print(f\"{user}: {len(lines)} words\")\n",
    "    most_used_word = mode(lines)\n",
    "    print(f\"Most used word: {most_used_word}\")\n",
    "\n",
    "# Print the massage count dictionary\n",
    "print(\"\\nMedia count:\")\n",
    "for user, media_count in sorted(media_count_dict.items()):\n",
    "    print(f\"{user}: {media_count} media items\")\n",
    "\n",
    "# Print emoji count and most used emoji for each user\n",
    "print(\"\\nEmoji count and most used emoji:\")\n",
    "for user, emoji_count in emoji_count_dict.items():\n",
    "    print(f\"{user}: {emoji_count} emojis\")\n",
    "    most_used_emoji = mode(emoji_use_dict[user])\n",
    "    print(f\"Most used emoji: {most_used_emoji}\")\n",
    "\n",
    "print(f\"\\ngeneraly used emoji: {general_emoji_count}\")\n"
   ]
  },
  {
   "cell_type": "markdown",
   "metadata": {},
   "source": [
    "### Visualization Functions\n"
   ]
  },
  {
   "cell_type": "code",
   "execution_count": 110,
   "metadata": {},
   "outputs": [],
   "source": [
    "def create_chart_int(char): #for where the key is int\n",
    "    # char: a tuple contain (data dictionary, name of x axis, chart title)\n",
    "    data, x_axis, title = char\n",
    "    # Extract keys and values\n",
    "    keys = list(data.keys())\n",
    "    values = list(data.values())\n",
    "\n",
    "    # Create the bar chart\n",
    "    plt.bar(keys, values)\n",
    "    plt.xlabel(x_axis)\n",
    "    plt.ylabel(\"Count\")\n",
    "    plt.title(title)\n",
    "\n",
    "    # Show the chart\n",
    "    plt.show()\n",
    "\n",
    "def create_chart_name(char): #for where the key is str\n",
    "    # char: a tuple contain (data dictionary, name of x axis, chart title)\n",
    "    data, x_axis, title = char\n",
    "    # Extract keys and values\n",
    "    keys = list(data.keys())\n",
    "    values = list(data.values())\n",
    "    \n",
    "    # Create the bar chart\n",
    "    plt.bar(keys, values)\n",
    "    plt.xlabel(x_axis)\n",
    "    plt.ylabel(\"Count\")\n",
    "    plt.title(title)\n",
    "\n",
    "    # Rotate x-axis labels for better visibility\n",
    "    plt.xticks(rotation=80)  # Adjust the rotation angle as needed\n",
    "    \n",
    "    # Show the chart\n",
    "    plt.show()\n"
   ]
  },
  {
   "cell_type": "markdown",
   "metadata": {},
   "source": [
    "## run and print charts"
   ]
  },
  {
   "cell_type": "code",
   "execution_count": null,
   "metadata": {},
   "outputs": [],
   "source": [
    "dict_list_int = [(year_count_dict, \"Year\", \"year_count\"),\n",
    "            (hour_count_dict, \"Hour\", \"hour_count\")]\n",
    "\n",
    "dict_list_name = [(message_count_dict, \"Message\", \"message_count\"),\n",
    "            (media_count_dict, \"Media\", \"media_count\"),\n",
    "            (emoji_count_dict, \"Emoji\", \"emoji_count\")]\n",
    "\n",
    "for data in dict_list_int:\n",
    "    create_chart_int(data)\n",
    "\n",
    "for data in dict_list_name:\n",
    "    create_chart_name(data)"
   ]
  }
 ],
 "metadata": {
  "kernelspec": {
   "display_name": "Python 3",
   "language": "python",
   "name": "python3"
  },
  "language_info": {
   "codemirror_mode": {
    "name": "ipython",
    "version": 3
   },
   "file_extension": ".py",
   "mimetype": "text/x-python",
   "name": "python",
   "nbconvert_exporter": "python",
   "pygments_lexer": "ipython3",
   "version": "3.10.2"
  }
 },
 "nbformat": 4,
 "nbformat_minor": 2
}
